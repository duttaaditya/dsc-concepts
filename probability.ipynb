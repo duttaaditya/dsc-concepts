{
 "metadata": {
  "orig_nbformat": 2,
  "kernelspec": {
   "name": "python3",
   "display_name": "Python 3.8.8 64-bit",
   "metadata": {
    "interpreter": {
     "hash": "fc8d779bcdabf9f1d5fb6a38fa12b7bd69dc4925af726558ba27764d6d9af27c"
    }
   }
  }
 },
 "nbformat": 4,
 "nbformat_minor": 2,
 "cells": [
  {
   "cell_type": "code",
   "execution_count": 19,
   "metadata": {},
   "outputs": [],
   "source": [
    "# If a coin is tossed 10 times and the event is simulated for n number of times.\n",
    "import random\n",
    "def coin_trials():\n",
    "    heads=0\n",
    "    for i in range(10):\n",
    "        if random.random() <= 0.5:\n",
    "            heads += 1\n",
    "    return heads\n",
    "\n",
    "def simulate(n):\n",
    "    trials=[]\n",
    "    for i in range(n):\n",
    "        trials.append(coin_trials())\n",
    "    return (sum(trials)/n)"
   ]
  },
  {
   "cell_type": "code",
   "execution_count": 21,
   "metadata": {},
   "outputs": [
    {
     "output_type": "execute_result",
     "data": {
      "text/plain": [
       "5.031"
      ]
     },
     "metadata": {},
     "execution_count": 21
    }
   ],
   "source": [
    "simulate(1000)"
   ]
  }
 ]
}